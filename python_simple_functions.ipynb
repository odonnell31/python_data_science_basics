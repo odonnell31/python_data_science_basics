{
 "cells": [
  {
   "cell_type": "markdown",
   "metadata": {},
   "source": [
    "# python example: functions and recursion"
   ]
  },
  {
   "cell_type": "markdown",
   "metadata": {},
   "source": [
    "author: Michael O'Donnell, 10/15/19"
   ]
  },
  {
   "cell_type": "markdown",
   "metadata": {},
   "source": [
    "In the early 1600s, Galileo was asked to explain the fact that, although the number of triples of integers from 1 to 6 with sum 9 is the same as the number of such triples with sum 10, when three dice are rolled, a 9 seemed to come up less often than a 10— supposedly in the experience of gamblers."
   ]
  },
  {
   "cell_type": "markdown",
   "metadata": {},
   "source": [
    "In probability it's clear that rolling a 9 or 10 are equally likely. But, attempt to recreate the gamblers experience."
   ]
  },
  {
   "cell_type": "code",
   "execution_count": 8,
   "metadata": {},
   "outputs": [],
   "source": [
    "# imports\n",
    "import random\n",
    "import pandas as pd\n",
    "import matplotlib.pyplot as plt"
   ]
  },
  {
   "cell_type": "markdown",
   "metadata": {},
   "source": [
    "## A function to simulates rolling three dice:"
   ]
  },
  {
   "cell_type": "code",
   "execution_count": 9,
   "metadata": {},
   "outputs": [],
   "source": [
    "def roll_three_dice():\n",
    "    die_one = random.randrange(1,6,1)\n",
    "    die_two = random.randrange(1,6,1)\n",
    "    die_three = random.randrange(1,6,1)\n",
    "    \n",
    "    # return the sum of the three dice\n",
    "    return(die_one + die_two + die_three)"
   ]
  },
  {
   "cell_type": "code",
   "execution_count": 10,
   "metadata": {},
   "outputs": [
    {
     "name": "stdout",
     "output_type": "stream",
     "text": [
      "sum of rolling three dice: 13\n"
     ]
    }
   ],
   "source": [
    "# testing the above function, roll the dice!\n",
    "print(\"sum of rolling three dice:\", roll_three_dice())"
   ]
  },
  {
   "cell_type": "markdown",
   "metadata": {},
   "source": [
    "## A function to simulate rolling three dice x amount of times:"
   ]
  },
  {
   "cell_type": "code",
   "execution_count": 41,
   "metadata": {},
   "outputs": [],
   "source": [
    "def roll_em_again(num_of_rolls):\n",
    "    nines = 0\n",
    "    tens = 0\n",
    "    \n",
    "    # roll the dice a selected number of times\n",
    "    for i in range(0, num_of_rolls):\n",
    "        sum_of_roll = roll_three_dice()\n",
    "        \n",
    "        if sum_of_roll == 9:\n",
    "            nines = nines + 1\n",
    "        elif sum_of_roll == 10:\n",
    "            tens = tens + 1\n",
    "    \n",
    "    # create dataframe to easily display results\n",
    "    data = [['nine', nines], ['ten', tens]]\n",
    "    df = pd.DataFrame(data, columns = ['Sum of Roll', 'Frequency'])\n",
    "    df['Probability'] = round(df['Frequency']/num_of_rolls, 4)\n",
    "    \n",
    "    return df\n",
    "    \n",
    "    # bonus, display results as a bar chart\n",
    "    #plt.bar(df['Sum of Roll'], df['Frequency'])\n",
    "    #plt.show()"
   ]
  },
  {
   "cell_type": "code",
   "execution_count": 42,
   "metadata": {},
   "outputs": [
    {
     "name": "stdout",
     "output_type": "stream",
     "text": [
      "  Sum of Roll  Frequency  Probability\n",
      "0        nine       1548       0.1548\n",
      "1         ten       1422       0.1422\n"
     ]
    }
   ],
   "source": [
    "# test the above function, roll three dice a million times!\n",
    "print(roll_em_again(10000))"
   ]
  },
  {
   "cell_type": "markdown",
   "metadata": {},
   "source": [
    "## Now, let's recreate the gamblers experience."
   ]
  },
  {
   "cell_type": "markdown",
   "metadata": {},
   "source": [
    "## A function to recreate the gamblers experience. How many times did they roll the dice?:"
   ]
  },
  {
   "cell_type": "code",
   "execution_count": 43,
   "metadata": {},
   "outputs": [],
   "source": [
    "def gamblers_experience(number_of_rolls_list):\n",
    "    # create dataframe for results\n",
    "    gamblers_df = pd.DataFrame(columns = ['Number of Rolls', 'Probability of Nine', 'Probability of Ten'])\n",
    "    \n",
    "    # calculate the prob of nines, tens at each number of total rolls\n",
    "    for j in number_of_rolls_list:\n",
    "        df = roll_em_again(j)\n",
    "        data = pd.DataFrame([[j, df.iloc[0][2], df.iloc[1][2]]], columns = ['Number of Rolls', 'Probability of Nine', 'Probability of Ten'])\n",
    "        gamblers_df = gamblers_df.append(data)\n",
    "    \n",
    "    gamblers_df = gamblers_df.set_index('Number of Rolls')\n",
    "    print(gamblers_df)        "
   ]
  },
  {
   "cell_type": "code",
   "execution_count": 45,
   "metadata": {},
   "outputs": [
    {
     "name": "stdout",
     "output_type": "stream",
     "text": [
      "                 Probability of Nine  Probability of Ten\n",
      "Number of Rolls                                         \n",
      "25                            0.2000              0.1200\n",
      "100                           0.2300              0.0700\n",
      "500                           0.1600              0.1460\n",
      "1000                          0.1470              0.1480\n",
      "10000                         0.1491              0.1445\n",
      "100000                        0.1508              0.1439\n"
     ]
    }
   ],
   "source": [
    "gamblers_experience([25,100,500,1000, 10000, 100000])"
   ]
  },
  {
   "cell_type": "markdown",
   "metadata": {},
   "source": [
    "## From the simulation above, the gamblers would've experienced different results at different number of rolls."
   ]
  }
 ],
 "metadata": {
  "kernelspec": {
   "display_name": "Python 3",
   "language": "python",
   "name": "python3"
  },
  "language_info": {
   "codemirror_mode": {
    "name": "ipython",
    "version": 3
   },
   "file_extension": ".py",
   "mimetype": "text/x-python",
   "name": "python",
   "nbconvert_exporter": "python",
   "pygments_lexer": "ipython3",
   "version": "3.7.2"
  }
 },
 "nbformat": 4,
 "nbformat_minor": 2
}
